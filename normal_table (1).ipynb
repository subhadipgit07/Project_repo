{
  "nbformat": 4,
  "nbformat_minor": 0,
  "metadata": {
    "colab": {
      "name": "normal_table.ipynb",
      "provenance": [],
      "collapsed_sections": []
    },
    "kernelspec": {
      "name": "python3",
      "display_name": "Python 3"
    },
    "language_info": {
      "name": "python"
    }
  },
  "cells": [
    {
      "cell_type": "markdown",
      "source": [
        "**Normal Probability Calculator**"
      ],
      "metadata": {
        "id": "L16KQp-RI027"
      }
    },
    {
      "cell_type": "code",
      "execution_count": null,
      "metadata": {
        "id": "cyUvvhY9gLBX"
      },
      "outputs": [],
      "source": [
        "from cmath import sqrt\n",
        "import math\n",
        "\n",
        "#for computing functional value of standard normal pdf\n",
        "def f(n):\n",
        " \n",
        "    n2=float(-0.5*n*n)\n",
        "    sq=float((2*math.pi)**(1/2))\n",
        "    val=float((math.e**n2)/sq)\n",
        "    return val\n",
        "\n",
        "#for computing standardise value  \n",
        "def stdr():\n",
        "    x=float(input('Enter Value : '))\n",
        "    m=float(input('Value of mean : '))\n",
        "    sd=float(input('Value of standard dev : '))\n",
        "    n=float(input(\"Number of sample : \"))\n",
        "    z=(x-m)/(sd/n**(1/2))\n",
        "    return float(z)\n",
        "\n",
        "#function for computing cdf of standard normal distribution\n",
        "def prob(y):\n",
        "    if(y<0):\n",
        "        x=-y\n",
        "    else:\n",
        "        x=y\n",
        "    h=x/100000\n",
        "    sum_f_even=0\n",
        "    sum_f_odd=0\n",
        "    for k in range(1,99999):\n",
        "        if(k%2==0):\n",
        "            sum_f_even=sum_f_even + f(k*h)\n",
        "        else:\n",
        "            sum_f_odd=sum_f_odd + f(k*h)\n",
        "\n",
        "    pr=float((x/300000)*(f(0) + f(x) + (2*sum_f_even) + (4*sum_f_odd)))\n",
        "    if(y<0):\n",
        "        pr=0.5-pr\n",
        "        return pr\n",
        "    else:\n",
        "        pr=0.5+pr\n",
        "        return pr\n",
        "     \n"
      ]
    },
    {
      "cell_type": "markdown",
      "source": [
        "Probability Calculator"
      ],
      "metadata": {
        "id": "AeGJfWdwIu2s"
      }
    },
    {
      "cell_type": "code",
      "source": [
        "while(True):\n",
        " ch=input(\"Do you want to find standise value : y/n -->\")\n",
        " if(ch=='y'):\n",
        "    \n",
        "    print(\" 1 for P(X<=a)\\n 2 for P(x>=b) \\n 3 for P(a<=X<=b)\\nF for Finish\")\n",
        "    c=input(\"GIVE YOUR CHOICE \")\n",
        "\n",
        "    if(c==\"1\"):\n",
        "        z=stdr()\n",
        "        print(\"P(X<=\",z,\")=\",prob(z))\n",
        "    elif(c==\"2\"):\n",
        "        z=stdr(b)\n",
        "        print(\"P(X>=\",z,\")= \",1-prob(z))\n",
        "    elif(c==\"3\"):\n",
        "        print('For a')\n",
        "        a=stdr()\n",
        "        print('For b')\n",
        "        b=stdr()\n",
        "        if(a>b):\n",
        "          c=b\n",
        "          b=a\n",
        "          a=c\n",
        "        print(\"P(\",a,\"<=X<=\",b,\")= \",prob(b)-prob(a))\n",
        "    elif(c==\"f\"):\n",
        "        break\n",
        "    else:\n",
        "        print(\"Wrong Choice !\\n write correct choice\")\n",
        "    \n",
        "    \n",
        " elif(ch=='n'):\n",
        "    print(\" 1 for P(X<=a)\\n 2 for P(x>=b) \\n 3 for P(a<=X<=b)\")\n",
        "    c=input(\"GIVE YOUR CHOICE \")\n",
        "\n",
        "    if(c==\"1\"):\n",
        "        a=float(input(\"Enter the value of a: \"))\n",
        "        print(\"P(X<=\",a,\")=\",prob(a))\n",
        "    elif(c==\"2\"):\n",
        "        b=float(input(\"Enter the value of b: \"))\n",
        "        print(\"P(X>=\",b,\")= \",1-prob(b))\n",
        "    elif(c==\"3\"):\n",
        "        if(a>b):\n",
        "          c=b\n",
        "          b=a\n",
        "          a=c\n",
        "        a=float(input(\"Enter the value of a: \"))\n",
        "        b=float(input(\"Enter the value of b: \"))\n",
        "        print(\"P(\",a,\"<=X<=\",b,\")= \",prob(b)-prob(a))\n",
        "    elif(c==\"f\"):\n",
        "        print('Finish')\n",
        "        break\n",
        "    else:\n",
        "        print(\"Wrong Choice !\\n write correct choice\")\n",
        " elif not ch:\n",
        "    print('wrong key\\n Finished')\n",
        "    break\n",
        "    "
      ],
      "metadata": {
        "colab": {
          "base_uri": "https://localhost:8080/"
        },
        "id": "FkVsS1Asue1e",
        "outputId": "b2c9cf6f-0058-474e-a4d7-b932efe965d9"
      },
      "execution_count": null,
      "outputs": [
        {
          "output_type": "stream",
          "name": "stdout",
          "text": [
            "Do you want to find standise value : y/n -->y\n",
            " 1 for P(X<=a)\n",
            " 2 for P(x>=b) \n",
            " 3 for P(a<=X<=b)\n",
            "F for Finish\n",
            "GIVE YOUR CHOICE 3\n",
            "For a\n",
            "Enter Value : 32\n",
            "Value of mean : 31\n",
            "Value of standard dev : 1\n",
            "Number of sample : 1\n",
            "For b\n",
            "Enter Value : 25\n",
            "Value of mean : 24\n",
            "Value of standard dev : 2\n",
            "Number of sample : 2\n",
            "P( 0.7071067811865476 <=X<= 1.0 )=  0.08109451014334035\n",
            "Do you want to find standise value : y/n -->\n",
            "wrong key\n",
            " Finished\n"
          ]
        }
      ]
    },
    {
      "cell_type": "markdown",
      "source": [
        "Function for value from Normal CDF"
      ],
      "metadata": {
        "id": "KErzSJcZIiTl"
      }
    },
    {
      "cell_type": "code",
      "source": [
        "\n",
        "def fi(p):\n",
        "   h=0\n",
        "   k=0\n",
        "   final_h=0\n",
        "   while(k<=5):\n",
        "        t=1\n",
        "        while(t<=9): \n",
        "          pr=prob(h)\n",
        "          if( pr==p):\n",
        "             \n",
        "             final_h=h\n",
        "             t=10\n",
        "             k=6\n",
        "          elif(pr > p):\n",
        "            if(k!=5):\n",
        "              h=h-1/(10**k) \n",
        "              k=k+1\n",
        "              break\n",
        "            else:\n",
        "              final_h=h\n",
        "              t=10\n",
        "              k=6\n",
        "              break\n",
        "            \n",
        "          else:\n",
        "             h=h+(1/(10**k))\n",
        "             t=t+1\n",
        "   return final_h\n",
        "\n",
        "\n",
        "    \n",
        "\n",
        "              \n",
        "          "
      ],
      "metadata": {
        "id": "Gdzn2elylxja"
      },
      "execution_count": null,
      "outputs": []
    },
    {
      "cell_type": "markdown",
      "source": [
        " Normal Value Calculator"
      ],
      "metadata": {
        "id": "ZFtHo6G9HOH0"
      }
    },
    {
      "cell_type": "code",
      "source": [
        "while(True):\n",
        "    print(\"4 for ONE TAILED TEST \\n5 for TWO TAILED TEST\\nENTER for finish\")\n",
        "    t=input(\"GIVE YOUR CHOICE \")\n",
        "   \n",
        "    if(t=='4'):\n",
        "      p=float(input(\"Enter the probability\")) \n",
        "      if(p>=0.5):\n",
        "        print(\"Z VALUE IS \",fi(p))\n",
        "      else:\n",
        "        print(\"Z VALUE IS \",-fi(1-p))\n",
        "    elif(t=='5'):\n",
        "      p=float(input(\"Enter the probability\")) \n",
        "      val=fi(p+((1-p)/2))\n",
        "      print(\"Z VALUES ARE( \",-val,\",\",val,\")\")\n",
        "    elif not t:\n",
        "      print('Finished')\n",
        "      break\n",
        "\n"
      ],
      "metadata": {
        "colab": {
          "base_uri": "https://localhost:8080/"
        },
        "id": "Dt_iH9pHs2pl",
        "outputId": "eba6dd3c-3faa-4987-94f9-0ff7c2dcadd5"
      },
      "execution_count": null,
      "outputs": [
        {
          "output_type": "stream",
          "name": "stdout",
          "text": [
            "4 for ONE TAILED TEST \n",
            "5 for TWO TAILED TEST\n",
            "ENTER for finish\n",
            "GIVE YOUR CHOICE 5\n",
            "Enter the probability.9\n",
            "Z VALUES ARE(  -1.6448800000000006 , 1.6448800000000006 )\n",
            "4 for ONE TAILED TEST \n",
            "5 for TWO TAILED TEST\n",
            "ENTER for finish\n",
            "GIVE YOUR CHOICE \n",
            "Finished\n"
          ]
        }
      ]
    }
  ]
}